{
 "cells": [
  {
   "cell_type": "markdown",
   "metadata": {},
   "source": [
    "## [作業重點]\n",
    "使用 Sklearn 中的 Lasso, Ridge 模型，來訓練各種資料集，務必了解送進去模型訓練的**資料型態**為何，也請了解模型中各項參數的意義。\n",
    "\n",
    "機器學習的模型非常多種，但要訓練的資料多半有固定的格式，確保你了解訓練資料的格式為何，這樣在應用新模型時，就能夠最快的上手開始訓練！"
   ]
  },
  {
   "cell_type": "markdown",
   "metadata": {},
   "source": [
    "## 練習時間\n",
    "試著使用 sklearn datasets 的其他資料集 (boston, ...)，來訓練自己的線性迴歸模型，並加上適當的正則話來觀察訓練情形。"
   ]
  },
  {
   "cell_type": "code",
   "execution_count": 54,
   "metadata": {},
   "outputs": [],
   "source": [
    "import numpy as np\n",
    "import matplotlib.pyplot as plt\n",
    "from sklearn import datasets, linear_model\n",
    "from sklearn.model_selection import train_test_split\n",
    "from sklearn.metrics import mean_squared_error, r2_score, accuracy_score\n",
    "import pandas as pd\n",
    "wine = datasets.load_wine()\n",
    "boston = datasets.load_boston()\n",
    "breast_cancer = datasets.load_breast_cancer()\n"
   ]
  },
  {
   "cell_type": "markdown",
   "metadata": {},
   "source": [
    "# Use Boston Case"
   ]
  },
  {
   "cell_type": "code",
   "execution_count": 89,
   "metadata": {},
   "outputs": [
    {
     "data": {
      "text/plain": [
       "array([24. , 21.6, 34.7, 33.4, 36.2])"
      ]
     },
     "execution_count": 89,
     "metadata": {},
     "output_type": "execute_result"
    }
   ],
   "source": [
    "boston.target[:5]"
   ]
  },
  {
   "cell_type": "code",
   "execution_count": 90,
   "metadata": {},
   "outputs": [
    {
     "name": "stdout",
     "output_type": "stream",
     "text": [
      "Coefficients:  [-1.25856659e-01  4.84257396e-02  1.84085281e-02  3.08509569e+00\n",
      " -1.73277018e+01  3.61674713e+00  2.19181853e-03 -1.49361132e+00\n",
      "  3.19979200e-01 -1.27294649e-02 -9.27469086e-01  9.50912468e-03\n",
      " -5.33592471e-01]\n",
      "Mean squared error: 17.04\n"
     ]
    }
   ],
   "source": [
    "X = boston.data\n",
    "# 切分訓練集/測試集\n",
    "x_train, x_test, y_train, y_test = train_test_split(X, boston.target, test_size=0.1, random_state=4)\n",
    "# 建立一個線性回歸模型\n",
    "regr = linear_model.LinearRegression()\n",
    "\n",
    "# 將訓練資料丟進去模型訓練\n",
    "regr.fit(x_train, y_train)\n",
    "\n",
    "# 將測試資料丟進模型得到預測結果\n",
    "y_pred = regr.predict(x_test)\n",
    "\n",
    "# 可以看回歸模型的參數值\n",
    "print('Coefficients: ', regr.coef_)\n",
    "\n",
    "# 預測值與實際值的差距，使用 MSE\n",
    "print(\"Mean squared error: %.2f\"\n",
    "      % mean_squared_error(y_test, y_pred))"
   ]
  },
  {
   "cell_type": "markdown",
   "metadata": {},
   "source": [
    "## LASSO"
   ]
  },
  {
   "cell_type": "code",
   "execution_count": 93,
   "metadata": {},
   "outputs": [
    {
     "name": "stdout",
     "output_type": "stream",
     "text": [
      "alpha= 0.2 Mean squared error: 18.42\n",
      "alpha= 0.4 Mean squared error: 19.17\n",
      "alpha= 0.6000000000000001 Mean squared error: 20.22\n",
      "alpha= 0.8 Mean squared error: 21.57\n",
      "alpha= 1.0 Mean squared error: 23.24\n",
      "alpha= 1.2000000000000002 Mean squared error: 25.22\n",
      "alpha= 1.4000000000000001 Mean squared error: 26.29\n",
      "alpha= 1.6 Mean squared error: 26.94\n",
      "alpha= 1.8 Mean squared error: 27.68\n"
     ]
    }
   ],
   "source": [
    "for i in range(1,10):\n",
    "    # 建立一個線性回歸模型\n",
    "    lasso = linear_model.Lasso(alpha=0.2*float(i))\n",
    "\n",
    "    # 將訓練資料丟進去模型訓練\n",
    "    lasso.fit(x_train, y_train)\n",
    "\n",
    "    # 將測試資料丟進模型得到預測結果\n",
    "    y_pred = lasso.predict(x_test)\n",
    "\n",
    "    # 印出各特徵對應的係數，可以看到許多係數都變成 0，Lasso Regression 的確可以做特徵選取\n",
    "#     print (lasso.coef_)\n",
    "    # 預測值與實際值的差距，使用 MSE\n",
    "    print(\"alpha=\",0.2*i,\"Mean squared error: %.2f\"\n",
    "          % mean_squared_error(y_test, y_pred))"
   ]
  },
  {
   "cell_type": "markdown",
   "metadata": {},
   "source": [
    "## Ridge"
   ]
  },
  {
   "cell_type": "code",
   "execution_count": 94,
   "metadata": {},
   "outputs": [
    {
     "name": "stdout",
     "output_type": "stream",
     "text": [
      "alpha= 0.2 Mean squared error: 17.04\n",
      "alpha= 0.4 Mean squared error: 17.04\n",
      "alpha= 0.6000000000000001 Mean squared error: 17.04\n",
      "alpha= 0.8 Mean squared error: 17.04\n",
      "alpha= 1.0 Mean squared error: 17.04\n",
      "alpha= 1.2000000000000002 Mean squared error: 17.04\n",
      "alpha= 1.4000000000000001 Mean squared error: 17.04\n",
      "alpha= 1.6 Mean squared error: 17.04\n",
      "alpha= 1.8 Mean squared error: 17.04\n"
     ]
    }
   ],
   "source": [
    "for i in range(1,10):\n",
    "    # 建立一個線性回歸模型\n",
    "    ridge = linear_model.Ridge(alpha=0.2*float(i))\n",
    "\n",
    "    # 將訓練資料丟進去模型訓練\n",
    "    ridge.fit(x_train, y_train)\n",
    "\n",
    "    # 將測試資料丟進模型得到預測結果\n",
    "    y_pred = regr.predict(x_test)\n",
    "    # 印出 Ridge 的參數，可以很明顯看到比起 Linear Regression，參數的數值都明顯小了許多\n",
    "#     print(ridge.coef_)\n",
    "    # 預測值與實際值的差距，使用 MSE\n",
    "    print(\"alpha=\",0.2*i,\"Mean squared error: %.2f\"\n",
    "          % mean_squared_error(y_test, y_pred))"
   ]
  },
  {
   "cell_type": "code",
   "execution_count": null,
   "metadata": {},
   "outputs": [],
   "source": []
  }
 ],
 "metadata": {
  "kernelspec": {
   "display_name": "Python 3",
   "language": "python",
   "name": "python3"
  },
  "language_info": {
   "codemirror_mode": {
    "name": "ipython",
    "version": 3
   },
   "file_extension": ".py",
   "mimetype": "text/x-python",
   "name": "python",
   "nbconvert_exporter": "python",
   "pygments_lexer": "ipython3",
   "version": "3.7.3"
  }
 },
 "nbformat": 4,
 "nbformat_minor": 2
}
